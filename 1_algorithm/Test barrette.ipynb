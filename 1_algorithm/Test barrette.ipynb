{
 "cells": [
  {
   "cell_type": "code",
   "execution_count": 1,
   "metadata": {},
   "outputs": [
    {
     "name": "stdout",
     "output_type": "stream",
     "text": [
      "\u001b[32m\u001b[1m  Updating\u001b[22m\u001b[39m registry at `~/.julia/registries/General`\n",
      "\u001b[32m\u001b[1m  Updating\u001b[22m\u001b[39m git-repo `https://github.com/JuliaRegistries/General.git`\n",
      "\u001b[?25l\u001b[2K\u001b[?25h\u001b[32m\u001b[1m Resolving\u001b[22m\u001b[39m package versions...\n",
      "\u001b[32m\u001b[1m  Updating\u001b[22m\u001b[39m `~/.julia/environments/v1.1/Project.toml`\n",
      "\u001b[90m [no changes]\u001b[39m\n",
      "\u001b[32m\u001b[1m  Updating\u001b[22m\u001b[39m `~/.julia/environments/v1.1/Manifest.toml`\n",
      "\u001b[90m [no changes]\u001b[39m\n",
      "\u001b[32m\u001b[1m Resolving\u001b[22m\u001b[39m package versions...\n",
      "\u001b[32m\u001b[1m  Updating\u001b[22m\u001b[39m `~/.julia/environments/v1.1/Project.toml`\n",
      "\u001b[90m [no changes]\u001b[39m\n",
      "\u001b[32m\u001b[1m  Updating\u001b[22m\u001b[39m `~/.julia/environments/v1.1/Manifest.toml`\n",
      "\u001b[90m [no changes]\u001b[39m\n",
      "\u001b[32m\u001b[1m Resolving\u001b[22m\u001b[39m package versions...\n",
      "\u001b[32m\u001b[1m  Updating\u001b[22m\u001b[39m `~/.julia/environments/v1.1/Project.toml`\n",
      "\u001b[90m [no changes]\u001b[39m\n",
      "\u001b[32m\u001b[1m  Updating\u001b[22m\u001b[39m `~/.julia/environments/v1.1/Manifest.toml`\n",
      "\u001b[90m [no changes]\u001b[39m\n",
      "\u001b[32m\u001b[1m Resolving\u001b[22m\u001b[39m package versions...\n",
      "\u001b[32m\u001b[1m  Updating\u001b[22m\u001b[39m `~/.julia/environments/v1.1/Project.toml`\n",
      "\u001b[90m [no changes]\u001b[39m\n",
      "\u001b[32m\u001b[1m  Updating\u001b[22m\u001b[39m `~/.julia/environments/v1.1/Manifest.toml`\n",
      "\u001b[90m [no changes]\u001b[39m\n",
      "\u001b[32m\u001b[1m Resolving\u001b[22m\u001b[39m package versions...\n",
      "\u001b[32m\u001b[1m  Updating\u001b[22m\u001b[39m `~/.julia/environments/v1.1/Project.toml`\n",
      "\u001b[90m [no changes]\u001b[39m\n",
      "\u001b[32m\u001b[1m  Updating\u001b[22m\u001b[39m `~/.julia/environments/v1.1/Manifest.toml`\n",
      "\u001b[90m [no changes]\u001b[39m\n"
     ]
    }
   ],
   "source": [
    "import ImageMagick\n",
    "using ImageMagick\n",
    "import Pkg; Pkg.add(\"Images\")\n",
    "import Pkg; Pkg.add(\"Plots\")\n",
    "Pkg.add(\"ImageMagick\")\n",
    "import Pkg; Pkg.add(\"FFTW\")\n",
    "Pkg.add(\"JLD\")\n",
    "using JLD\n",
    "using Images\n",
    "\n",
    "\n",
    "import Pkg\n",
    "#Pkg.add(\"ContrastEnhancement\")\n",
    "include(\"./ContrastEnhancement.jl\")\n",
    "#Pkg.activate(\"ContrastEnhancement\")\n",
    "\n",
    "using Main.ContrastEnhancement\n",
    "import Plots"
   ]
  },
  {
   "cell_type": "markdown",
   "metadata": {},
   "source": [
    "# Generation of the test images"
   ]
  },
  {
   "cell_type": "code",
   "execution_count": 2,
   "metadata": {},
   "outputs": [
    {
     "data": {
      "image/png": "[encoded data removed]",
      "text/plain": [
       "200×420 Array{Gray{Float64},2} with eltype Gray{Float64}:\n",
       " Gray{Float64}(0.0)  Gray{Float64}(0.0)  …  Gray{Float64}(1.0)\n",
       " Gray{Float64}(0.0)  Gray{Float64}(0.0)     Gray{Float64}(1.0)\n",
       " Gray{Float64}(0.0)  Gray{Float64}(0.0)     Gray{Float64}(1.0)\n",
       " Gray{Float64}(0.0)  Gray{Float64}(0.0)     Gray{Float64}(1.0)\n",
       " Gray{Float64}(1.0)  Gray{Float64}(1.0)     Gray{Float64}(1.0)\n",
       " Gray{Float64}(1.0)  Gray{Float64}(1.0)  …  Gray{Float64}(1.0)\n",
       " Gray{Float64}(1.0)  Gray{Float64}(1.0)     Gray{Float64}(1.0)\n",
       " Gray{Float64}(1.0)  Gray{Float64}(1.0)     Gray{Float64}(1.0)\n",
       " Gray{Float64}(1.0)  Gray{Float64}(1.0)     Gray{Float64}(1.0)\n",
       " Gray{Float64}(0.0)  Gray{Float64}(0.0)     Gray{Float64}(1.0)\n",
       " Gray{Float64}(0.0)  Gray{Float64}(0.0)  …  Gray{Float64}(1.0)\n",
       " Gray{Float64}(0.0)  Gray{Float64}(0.0)     Gray{Float64}(1.0)\n",
       " Gray{Float64}(0.0)  Gray{Float64}(0.0)     Gray{Float64}(1.0)\n",
       " ⋮                                       ⋱                    \n",
       " Gray{Float64}(1.0)  Gray{Float64}(1.0)     Gray{Float64}(1.0)\n",
       " Gray{Float64}(0.0)  Gray{Float64}(0.0)     Gray{Float64}(1.0)\n",
       " Gray{Float64}(0.0)  Gray{Float64}(0.0)  …  Gray{Float64}(1.0)\n",
       " Gray{Float64}(0.0)  Gray{Float64}(0.0)     Gray{Float64}(1.0)\n",
       " Gray{Float64}(0.0)  Gray{Float64}(0.0)     Gray{Float64}(1.0)\n",
       " Gray{Float64}(0.0)  Gray{Float64}(0.0)     Gray{Float64}(1.0)\n",
       " Gray{Float64}(1.0)  Gray{Float64}(1.0)     Gray{Float64}(1.0)\n",
       " Gray{Float64}(1.0)  Gray{Float64}(1.0)  …  Gray{Float64}(1.0)\n",
       " Gray{Float64}(1.0)  Gray{Float64}(1.0)     Gray{Float64}(1.0)\n",
       " Gray{Float64}(1.0)  Gray{Float64}(1.0)     Gray{Float64}(1.0)\n",
       " Gray{Float64}(1.0)  Gray{Float64}(1.0)     Gray{Float64}(1.0)\n",
       " Gray{Float64}(0.0)  Gray{Float64}(0.0)     Gray{Float64}(1.0)"
      ]
     },
     "execution_count": 2,
     "metadata": {},
     "output_type": "execute_result"
    }
   ],
   "source": [
    "function show_together(x,y)\n",
    "    @assert size(x,1) == size(y,1)\n",
    "    w = Gray.([1. for i in 1:size(x,1), j in 1:20 ])\n",
    "    [Gray.(x) w Gray.(y)]\n",
    "end\n",
    "\n",
    "function diagonal(n, B, γ; w = Inf, color = :black)\n",
    "    m = ceil(Int, n/B)\n",
    "    \n",
    "    if w == Inf\n",
    "        w = m\n",
    "    end\n",
    "    \n",
    "    if γ == 0\n",
    "        d = [ iseven(floor(Int, x/m)) ? 0. : 1. for x in 1:n, y in 1:n ]\n",
    "        iseven(B) ? nothing : B = B-1\n",
    "        k = ceil(Int, m * (B/2))\n",
    "        if color == :black\n",
    "            isodd(k) ? k = k+m : nothing\n",
    "        else\n",
    "            isodd(k) ? nothing : k = k-m\n",
    "        end\n",
    "        d[ k:(w-1+ k), :] = ones(w,n)*0.5\n",
    "    else\n",
    "        d = [ iseven(floor(Int, (x/tan(γ)+y)/(1+1/tan(γ))/m)) ? 1. : 0. for x in 1:n, y in 1:n ]\n",
    "        h = floor(Int,w/2)\n",
    "        d[ ceil(Int,n/2)-h:ceil(Int,n/2)+h, : ] = ones(2h+1, n)*0.5\n",
    "    end\n",
    "    d\n",
    "end\n",
    "\n",
    "\n",
    "diag1 = Gray.(diagonal( 200, 40, 0, color = :white))\n",
    "diag2 = Gray.(diagonal( 200, 40, π/2))\n",
    "show_together(diag1, diag2)"
   ]
  },
  {
   "cell_type": "code",
   "execution_count": 4,
   "metadata": {},
   "outputs": [
    {
     "data": {
      "text/plain": [
       "Array{Gray{Float64},2}"
      ]
     },
     "execution_count": 4,
     "metadata": {},
     "output_type": "execute_result"
    }
   ],
   "source": [
    "diag3 = Gray.(diagonal( 200, 40, atan(1/2)))\n",
    "diag4 = Gray.(diagonal( 200, 40, atan(2)))\n",
    "show_together(diag3, diag4)\n",
    "typeof(diag3)"
   ]
  },
  {
   "cell_type": "markdown",
   "metadata": {},
   "source": [
    "# Test of the 4 algorithms"
   ]
  },
  {
   "cell_type": "markdown",
   "metadata": {},
   "source": [
    "## Straight lines"
   ]
  },
  {
   "cell_type": "code",
   "execution_count": 5,
   "metadata": {
    "scrolled": true
   },
   "outputs": [
    {
     "name": "stdout",
     "output_type": "stream",
     "text": [
      " 10.430485 seconds (21.83 M allocations: 1.084 GiB, 7.15% gc time)\n"
     ]
    },
    {
     "data": {
      "image/png": "[encoded data removed]",
      "text/plain": [
       "200×420 Array{Gray{Float64},2} with eltype Gray{Float64}:\n",
       " Gray{Float64}(0.0)  Gray{Float64}(0.0)  …  Gray{Float64}(0.272865)\n",
       " Gray{Float64}(0.0)  Gray{Float64}(0.0)     Gray{Float64}(0.282928)\n",
       " Gray{Float64}(0.0)  Gray{Float64}(0.0)     Gray{Float64}(0.294733)\n",
       " Gray{Float64}(0.0)  Gray{Float64}(0.0)     Gray{Float64}(0.306293)\n",
       " Gray{Float64}(1.0)  Gray{Float64}(1.0)     Gray{Float64}(0.660396)\n",
       " Gray{Float64}(1.0)  Gray{Float64}(1.0)  …  Gray{Float64}(0.666511)\n",
       " Gray{Float64}(1.0)  Gray{Float64}(1.0)     Gray{Float64}(0.668991)\n",
       " Gray{Float64}(1.0)  Gray{Float64}(1.0)     Gray{Float64}(0.668447)\n",
       " Gray{Float64}(1.0)  Gray{Float64}(1.0)     Gray{Float64}(0.665824)\n",
       " Gray{Float64}(0.0)  Gray{Float64}(0.0)     Gray{Float64}(0.317621)\n",
       " Gray{Float64}(0.0)  Gray{Float64}(0.0)  …  Gray{Float64}(0.314802)\n",
       " Gray{Float64}(0.0)  Gray{Float64}(0.0)     Gray{Float64}(0.313712)\n",
       " Gray{Float64}(0.0)  Gray{Float64}(0.0)     Gray{Float64}(0.314802)\n",
       " ⋮                                       ⋱                         \n",
       " Gray{Float64}(1.0)  Gray{Float64}(1.0)     Gray{Float64}(0.665824)\n",
       " Gray{Float64}(0.0)  Gray{Float64}(0.0)     Gray{Float64}(0.317621)\n",
       " Gray{Float64}(0.0)  Gray{Float64}(0.0)  …  Gray{Float64}(0.314802)\n",
       " Gray{Float64}(0.0)  Gray{Float64}(0.0)     Gray{Float64}(0.313712)\n",
       " Gray{Float64}(0.0)  Gray{Float64}(0.0)     Gray{Float64}(0.314802)\n",
       " Gray{Float64}(0.0)  Gray{Float64}(0.0)     Gray{Float64}(0.317621)\n",
       " Gray{Float64}(1.0)  Gray{Float64}(1.0)     Gray{Float64}(0.665824)\n",
       " Gray{Float64}(1.0)  Gray{Float64}(1.0)  …  Gray{Float64}(0.668588)\n",
       " Gray{Float64}(1.0)  Gray{Float64}(1.0)     Gray{Float64}(0.669861)\n",
       " Gray{Float64}(1.0)  Gray{Float64}(1.0)     Gray{Float64}(0.669466)\n",
       " Gray{Float64}(1.0)  Gray{Float64}(1.0)     Gray{Float64}(0.667782)\n",
       " Gray{Float64}(0.0)  Gray{Float64}(0.0)     Gray{Float64}(0.320833)"
      ]
     },
     "execution_count": 5,
     "metadata": {},
     "output_type": "execute_result"
    }
   ],
   "source": [
    "@time diag1_wc_2d = wc(diag1, 10, 2, 0.5, algo_type = :planar)[1]\n",
    "show_together(diag1, diag1_wc_2d)"
   ]
  },
  {
   "cell_type": "code",
   "execution_count": 43,
   "metadata": {},
   "outputs": [
    {
     "name": "stdout",
     "output_type": "stream",
     "text": [
      "  1.474062 seconds (2.15 M allocations: 575.602 MiB, 6.12% gc time)\n"
     ]
    },
    {
     "data": {
      "image/png": "[encoded data removed]",
      "text/plain": [
       "200×420 Array{Gray{Float64},2} with eltype Gray{Float64}:\n",
       " Gray{Float64}(0.0)  Gray{Float64}(0.0)  …  Gray{Float64}(0.0854655)\n",
       " Gray{Float64}(0.0)  Gray{Float64}(0.0)     Gray{Float64}(0.0809412)\n",
       " Gray{Float64}(0.0)  Gray{Float64}(0.0)     Gray{Float64}(0.0759596)\n",
       " Gray{Float64}(0.0)  Gray{Float64}(0.0)     Gray{Float64}(0.0722691)\n",
       " Gray{Float64}(1.0)  Gray{Float64}(1.0)     Gray{Float64}(0.745666) \n",
       " Gray{Float64}(1.0)  Gray{Float64}(1.0)  …  Gray{Float64}(0.748265) \n",
       " Gray{Float64}(1.0)  Gray{Float64}(1.0)     Gray{Float64}(0.753456) \n",
       " Gray{Float64}(1.0)  Gray{Float64}(1.0)     Gray{Float64}(0.760881) \n",
       " Gray{Float64}(1.0)  Gray{Float64}(1.0)     Gray{Float64}(0.769468) \n",
       " Gray{Float64}(0.0)  Gray{Float64}(0.0)     Gray{Float64}(0.10873)  \n",
       " Gray{Float64}(0.0)  Gray{Float64}(0.0)  …  Gray{Float64}(0.117249) \n",
       " Gray{Float64}(0.0)  Gray{Float64}(0.0)     Gray{Float64}(0.124873) \n",
       " Gray{Float64}(0.0)  Gray{Float64}(0.0)     Gray{Float64}(0.131175) \n",
       " ⋮                                       ⋱                          \n",
       " Gray{Float64}(1.0)  Gray{Float64}(1.0)     Gray{Float64}(0.808924) \n",
       " Gray{Float64}(0.0)  Gray{Float64}(0.0)     Gray{Float64}(0.136258) \n",
       " Gray{Float64}(0.0)  Gray{Float64}(0.0)  …  Gray{Float64}(0.131103) \n",
       " Gray{Float64}(0.0)  Gray{Float64}(0.0)     Gray{Float64}(0.124852) \n",
       " Gray{Float64}(0.0)  Gray{Float64}(0.0)     Gray{Float64}(0.117365) \n",
       " Gray{Float64}(0.0)  Gray{Float64}(0.0)     Gray{Float64}(0.109054) \n",
       " Gray{Float64}(1.0)  Gray{Float64}(1.0)     Gray{Float64}(0.769495) \n",
       " Gray{Float64}(1.0)  Gray{Float64}(1.0)  …  Gray{Float64}(0.76094)  \n",
       " Gray{Float64}(1.0)  Gray{Float64}(1.0)     Gray{Float64}(0.753552) \n",
       " Gray{Float64}(1.0)  Gray{Float64}(1.0)     Gray{Float64}(0.748403) \n",
       " Gray{Float64}(1.0)  Gray{Float64}(1.0)     Gray{Float64}(0.745854) \n",
       " Gray{Float64}(0.0)  Gray{Float64}(0.0)     Gray{Float64}(0.0765371)"
      ]
     },
     "execution_count": 43,
     "metadata": {},
     "output_type": "execute_result"
    }
   ],
   "source": [
    "@time diag1_lhe_2d = lhe(diag1, 10, 5, 0.5, algo_type = :planar)[1]\n",
    "show_together(diag1, diag1_lhe_2d)"
   ]
  },
  {
   "cell_type": "code",
   "execution_count": 44,
   "metadata": {},
   "outputs": [
    {
     "name": "stdout",
     "output_type": "stream",
     "text": [
      " 19.552311 seconds (17.40 M allocations: 13.082 GiB, 31.57% gc time)\n"
     ]
    },
    {
     "data": {
      "image/png": "[encoded data removed]",
      "text/plain": [
       "200×420 Array{Gray{Float64},2} with eltype Gray{Float64}:\n",
       " Gray{Float64}(0.0)  Gray{Float64}(0.0)  …  Gray{Float64}(0.0771035)\n",
       " Gray{Float64}(0.0)  Gray{Float64}(0.0)     Gray{Float64}(0.0)      \n",
       " Gray{Float64}(0.0)  Gray{Float64}(0.0)     Gray{Float64}(0.0808925)\n",
       " Gray{Float64}(0.0)  Gray{Float64}(0.0)     Gray{Float64}(0.289683) \n",
       " Gray{Float64}(1.0)  Gray{Float64}(1.0)     Gray{Float64}(0.547552) \n",
       " Gray{Float64}(1.0)  Gray{Float64}(1.0)  …  Gray{Float64}(0.757064) \n",
       " Gray{Float64}(1.0)  Gray{Float64}(1.0)     Gray{Float64}(0.839382) \n",
       " Gray{Float64}(1.0)  Gray{Float64}(1.0)     Gray{Float64}(0.764371) \n",
       " Gray{Float64}(1.0)  Gray{Float64}(1.0)     Gray{Float64}(0.562114) \n",
       " Gray{Float64}(0.0)  Gray{Float64}(0.0)     Gray{Float64}(0.31141)  \n",
       " Gray{Float64}(0.0)  Gray{Float64}(0.0)  …  Gray{Float64}(0.109655) \n",
       " Gray{Float64}(0.0)  Gray{Float64}(0.0)     Gray{Float64}(0.0356351)\n",
       " Gray{Float64}(0.0)  Gray{Float64}(0.0)     Gray{Float64}(0.119407) \n",
       " ⋮                                       ⋱                          \n",
       " Gray{Float64}(1.0)  Gray{Float64}(1.0)     Gray{Float64}(0.711245) \n",
       " Gray{Float64}(0.0)  Gray{Float64}(0.0)     Gray{Float64}(0.456723) \n",
       " Gray{Float64}(0.0)  Gray{Float64}(0.0)  …  Gray{Float64}(0.25089)  \n",
       " Gray{Float64}(0.0)  Gray{Float64}(0.0)     Gray{Float64}(0.172567) \n",
       " Gray{Float64}(0.0)  Gray{Float64}(0.0)     Gray{Float64}(0.251862) \n",
       " Gray{Float64}(0.0)  Gray{Float64}(0.0)     Gray{Float64}(0.458663) \n",
       " Gray{Float64}(1.0)  Gray{Float64}(1.0)     Gray{Float64}(0.714142) \n",
       " Gray{Float64}(1.0)  Gray{Float64}(1.0)  …  Gray{Float64}(0.920862) \n",
       " Gray{Float64}(1.0)  Gray{Float64}(1.0)     Gray{Float64}(1.0)      \n",
       " Gray{Float64}(1.0)  Gray{Float64}(1.0)     Gray{Float64}(0.921449) \n",
       " Gray{Float64}(1.0)  Gray{Float64}(1.0)     Gray{Float64}(0.715317) \n",
       " Gray{Float64}(0.0)  Gray{Float64}(0.0)     Gray{Float64}(0.460427) "
      ]
     },
     "execution_count": 44,
     "metadata": {},
     "output_type": "execute_result"
    }
   ],
   "source": [
    "@time diag1_wc_3d = wc(diag1, 10, 5, 0.5, algo_type = :cortical)[1]\n",
    "show_together(diag1, diag1_wc_3d)"
   ]
  },
  {
   "cell_type": "code",
   "execution_count": 45,
   "metadata": {},
   "outputs": [
    {
     "name": "stdout",
     "output_type": "stream",
     "text": [
      " 40.423159 seconds (25.82 M allocations: 24.122 GiB, 30.97% gc time)\n"
     ]
    },
    {
     "data": {
      "image/png": "[encoded data removed]",
      "text/plain": [
       "200×420 Array{Gray{Float64},2} with eltype Gray{Float64}:\n",
       " Gray{Float64}(0.0)  Gray{Float64}(0.0)  …  Gray{Float64}(0.145222)   \n",
       " Gray{Float64}(0.0)  Gray{Float64}(0.0)     Gray{Float64}(0.285857)   \n",
       " Gray{Float64}(0.0)  Gray{Float64}(0.0)     Gray{Float64}(0.0650871)  \n",
       " Gray{Float64}(0.0)  Gray{Float64}(0.0)     Gray{Float64}(0.201613)   \n",
       " Gray{Float64}(1.0)  Gray{Float64}(1.0)     Gray{Float64}(0.895124)   \n",
       " Gray{Float64}(1.0)  Gray{Float64}(1.0)  …  Gray{Float64}(0.968293)   \n",
       " Gray{Float64}(1.0)  Gray{Float64}(1.0)     Gray{Float64}(0.86178)    \n",
       " Gray{Float64}(1.0)  Gray{Float64}(1.0)     Gray{Float64}(0.953193)   \n",
       " Gray{Float64}(1.0)  Gray{Float64}(1.0)     Gray{Float64}(0.847022)   \n",
       " Gray{Float64}(0.0)  Gray{Float64}(0.0)     Gray{Float64}(0.122051)   \n",
       " Gray{Float64}(0.0)  Gray{Float64}(0.0)  …  Gray{Float64}(0.000176917)\n",
       " Gray{Float64}(0.0)  Gray{Float64}(0.0)     Gray{Float64}(0.137986)   \n",
       " Gray{Float64}(0.0)  Gray{Float64}(0.0)     Gray{Float64}(0.0191335)  \n",
       " ⋮                                       ⋱                            \n",
       " Gray{Float64}(1.0)  Gray{Float64}(1.0)     Gray{Float64}(0.880646)   \n",
       " Gray{Float64}(0.0)  Gray{Float64}(0.0)     Gray{Float64}(0.159704)   \n",
       " Gray{Float64}(0.0)  Gray{Float64}(0.0)  …  Gray{Float64}(0.0187823)  \n",
       " Gray{Float64}(0.0)  Gray{Float64}(0.0)     Gray{Float64}(0.139022)   \n",
       " Gray{Float64}(0.0)  Gray{Float64}(0.0)     Gray{Float64}(0.0)        \n",
       " Gray{Float64}(0.0)  Gray{Float64}(0.0)     Gray{Float64}(0.120171)   \n",
       " Gray{Float64}(1.0)  Gray{Float64}(1.0)     Gray{Float64}(0.848265)   \n",
       " Gray{Float64}(1.0)  Gray{Float64}(1.0)  …  Gray{Float64}(0.954498)   \n",
       " Gray{Float64}(1.0)  Gray{Float64}(1.0)     Gray{Float64}(0.862759)   \n",
       " Gray{Float64}(1.0)  Gray{Float64}(1.0)     Gray{Float64}(0.968755)   \n",
       " Gray{Float64}(1.0)  Gray{Float64}(1.0)     Gray{Float64}(0.895333)   \n",
       " Gray{Float64}(0.0)  Gray{Float64}(0.0)     Gray{Float64}(0.159726)   "
      ]
     },
     "execution_count": 45,
     "metadata": {},
     "output_type": "execute_result"
    }
   ],
   "source": [
    "@time diag1_lhe_3d = lhe(diag1, 10, 5, 0.5, max_iter = 100, threshold = 0.01, m=200, bw = 4, algo_type = :cortical)[1]\n",
    "show_together(diag1, diag1_lhe_3d)"
   ]
  },
  {
   "cell_type": "markdown",
   "metadata": {},
   "source": [
    "## Diagonal lines"
   ]
  },
  {
   "cell_type": "code",
   "execution_count": 46,
   "metadata": {},
   "outputs": [
    {
     "name": "stdout",
     "output_type": "stream",
     "text": [
      "  0.052200 seconds (2.84 k allocations: 72.029 MiB, 17.15% gc time)\n"
     ]
    },
    {
     "data": {
      "image/png": "[encoded data removed]",
      "text/plain": [
       "200×420 Array{Gray{Float64},2} with eltype Gray{Float64}:\n",
       " Gray{Float64}(1.0)  Gray{Float64}(1.0)  …  Gray{Float64}(0.665579)\n",
       " Gray{Float64}(1.0)  Gray{Float64}(1.0)     Gray{Float64}(0.665579)\n",
       " Gray{Float64}(1.0)  Gray{Float64}(1.0)     Gray{Float64}(0.665579)\n",
       " Gray{Float64}(1.0)  Gray{Float64}(1.0)     Gray{Float64}(0.665579)\n",
       " Gray{Float64}(1.0)  Gray{Float64}(1.0)     Gray{Float64}(0.665579)\n",
       " Gray{Float64}(1.0)  Gray{Float64}(1.0)  …  Gray{Float64}(0.665579)\n",
       " Gray{Float64}(1.0)  Gray{Float64}(1.0)     Gray{Float64}(0.665579)\n",
       " Gray{Float64}(1.0)  Gray{Float64}(1.0)     Gray{Float64}(0.665579)\n",
       " Gray{Float64}(1.0)  Gray{Float64}(1.0)     Gray{Float64}(0.665579)\n",
       " Gray{Float64}(1.0)  Gray{Float64}(1.0)     Gray{Float64}(0.665579)\n",
       " Gray{Float64}(1.0)  Gray{Float64}(1.0)  …  Gray{Float64}(0.665579)\n",
       " Gray{Float64}(1.0)  Gray{Float64}(1.0)     Gray{Float64}(0.665579)\n",
       " Gray{Float64}(1.0)  Gray{Float64}(1.0)     Gray{Float64}(0.665579)\n",
       " ⋮                                       ⋱                         \n",
       " Gray{Float64}(1.0)  Gray{Float64}(1.0)     Gray{Float64}(0.665579)\n",
       " Gray{Float64}(1.0)  Gray{Float64}(1.0)     Gray{Float64}(0.665579)\n",
       " Gray{Float64}(1.0)  Gray{Float64}(1.0)  …  Gray{Float64}(0.665579)\n",
       " Gray{Float64}(1.0)  Gray{Float64}(1.0)     Gray{Float64}(0.665579)\n",
       " Gray{Float64}(1.0)  Gray{Float64}(1.0)     Gray{Float64}(0.665579)\n",
       " Gray{Float64}(1.0)  Gray{Float64}(1.0)     Gray{Float64}(0.665579)\n",
       " Gray{Float64}(1.0)  Gray{Float64}(1.0)     Gray{Float64}(0.665579)\n",
       " Gray{Float64}(1.0)  Gray{Float64}(1.0)  …  Gray{Float64}(0.665579)\n",
       " Gray{Float64}(1.0)  Gray{Float64}(1.0)     Gray{Float64}(0.665579)\n",
       " Gray{Float64}(1.0)  Gray{Float64}(1.0)     Gray{Float64}(0.665579)\n",
       " Gray{Float64}(1.0)  Gray{Float64}(1.0)     Gray{Float64}(0.665579)\n",
       " Gray{Float64}(1.0)  Gray{Float64}(1.0)     Gray{Float64}(0.665579)"
      ]
     },
     "execution_count": 46,
     "metadata": {},
     "output_type": "execute_result"
    }
   ],
   "source": [
    "@time diag2_wc_2d = wc(diag2, 10, 2, 0.5, algo_type = :planar)[1]\n",
    "show_together(diag2, diag2_wc_2d)"
   ]
  },
  {
   "cell_type": "code",
   "execution_count": 6,
   "metadata": {},
   "outputs": [
    {
     "name": "stdout",
     "output_type": "stream",
     "text": [
      "  2.016847 seconds (2.16 M allocations: 575.674 MiB, 5.69% gc time)\n"
     ]
    },
    {
     "data": {
      "image/png": "[encoded data removed]",
      "text/plain": [
       "200×420 Array{Gray{Float64},2} with eltype Gray{Float64}:\n",
       " Gray{Float64}(1.0)  Gray{Float64}(1.0)  …  Gray{Float64}(0.923463)\n",
       " Gray{Float64}(1.0)  Gray{Float64}(1.0)     Gray{Float64}(0.923463)\n",
       " Gray{Float64}(1.0)  Gray{Float64}(1.0)     Gray{Float64}(0.923463)\n",
       " Gray{Float64}(1.0)  Gray{Float64}(1.0)     Gray{Float64}(0.923463)\n",
       " Gray{Float64}(1.0)  Gray{Float64}(1.0)     Gray{Float64}(0.923463)\n",
       " Gray{Float64}(1.0)  Gray{Float64}(1.0)  …  Gray{Float64}(0.923463)\n",
       " Gray{Float64}(1.0)  Gray{Float64}(1.0)     Gray{Float64}(0.923463)\n",
       " Gray{Float64}(1.0)  Gray{Float64}(1.0)     Gray{Float64}(0.923463)\n",
       " Gray{Float64}(1.0)  Gray{Float64}(1.0)     Gray{Float64}(0.923463)\n",
       " Gray{Float64}(1.0)  Gray{Float64}(1.0)     Gray{Float64}(0.923463)\n",
       " Gray{Float64}(1.0)  Gray{Float64}(1.0)  …  Gray{Float64}(0.923463)\n",
       " Gray{Float64}(1.0)  Gray{Float64}(1.0)     Gray{Float64}(0.923463)\n",
       " Gray{Float64}(1.0)  Gray{Float64}(1.0)     Gray{Float64}(0.923463)\n",
       " ⋮                                       ⋱                         \n",
       " Gray{Float64}(1.0)  Gray{Float64}(1.0)     Gray{Float64}(0.923463)\n",
       " Gray{Float64}(1.0)  Gray{Float64}(1.0)     Gray{Float64}(0.923463)\n",
       " Gray{Float64}(1.0)  Gray{Float64}(1.0)  …  Gray{Float64}(0.923463)\n",
       " Gray{Float64}(1.0)  Gray{Float64}(1.0)     Gray{Float64}(0.923463)\n",
       " Gray{Float64}(1.0)  Gray{Float64}(1.0)     Gray{Float64}(0.923463)\n",
       " Gray{Float64}(1.0)  Gray{Float64}(1.0)     Gray{Float64}(0.923463)\n",
       " Gray{Float64}(1.0)  Gray{Float64}(1.0)     Gray{Float64}(0.923463)\n",
       " Gray{Float64}(1.0)  Gray{Float64}(1.0)  …  Gray{Float64}(0.923463)\n",
       " Gray{Float64}(1.0)  Gray{Float64}(1.0)     Gray{Float64}(0.923463)\n",
       " Gray{Float64}(1.0)  Gray{Float64}(1.0)     Gray{Float64}(0.923463)\n",
       " Gray{Float64}(1.0)  Gray{Float64}(1.0)     Gray{Float64}(0.923463)\n",
       " Gray{Float64}(1.0)  Gray{Float64}(1.0)     Gray{Float64}(0.923463)"
      ]
     },
     "execution_count": 6,
     "metadata": {},
     "output_type": "execute_result"
    }
   ],
   "source": [
    "@time diag2_lhe_2d = lhe(diag2, 10, 5, 0.5, algo_type = :planar)[1]\n",
    "show_together(diag2, diag2_lhe_2d)"
   ]
  },
  {
   "cell_type": "code",
   "execution_count": 48,
   "metadata": {},
   "outputs": [
    {
     "name": "stdout",
     "output_type": "stream",
     "text": [
      " 22.272918 seconds (24.05 M allocations: 17.130 GiB, 34.94% gc time)\n"
     ]
    },
    {
     "data": {
      "image/png": "[encoded data removed]",
      "text/plain": [
       "200×420 Array{Gray{Float64},2} with eltype Gray{Float64}:\n",
       " Gray{Float64}(1.0)  Gray{Float64}(1.0)  …  Gray{Float64}(0.953388)\n",
       " Gray{Float64}(1.0)  Gray{Float64}(1.0)     Gray{Float64}(0.953393)\n",
       " Gray{Float64}(1.0)  Gray{Float64}(1.0)     Gray{Float64}(0.953388)\n",
       " Gray{Float64}(1.0)  Gray{Float64}(1.0)     Gray{Float64}(0.953393)\n",
       " Gray{Float64}(1.0)  Gray{Float64}(1.0)     Gray{Float64}(0.953388)\n",
       " Gray{Float64}(1.0)  Gray{Float64}(1.0)  …  Gray{Float64}(0.953393)\n",
       " Gray{Float64}(1.0)  Gray{Float64}(1.0)     Gray{Float64}(0.953388)\n",
       " Gray{Float64}(1.0)  Gray{Float64}(1.0)     Gray{Float64}(0.953393)\n",
       " Gray{Float64}(1.0)  Gray{Float64}(1.0)     Gray{Float64}(0.953388)\n",
       " Gray{Float64}(1.0)  Gray{Float64}(1.0)     Gray{Float64}(0.953393)\n",
       " Gray{Float64}(1.0)  Gray{Float64}(1.0)  …  Gray{Float64}(0.953388)\n",
       " Gray{Float64}(1.0)  Gray{Float64}(1.0)     Gray{Float64}(0.953393)\n",
       " Gray{Float64}(1.0)  Gray{Float64}(1.0)     Gray{Float64}(0.953388)\n",
       " ⋮                                       ⋱                         \n",
       " Gray{Float64}(1.0)  Gray{Float64}(1.0)     Gray{Float64}(0.953388)\n",
       " Gray{Float64}(1.0)  Gray{Float64}(1.0)     Gray{Float64}(0.953393)\n",
       " Gray{Float64}(1.0)  Gray{Float64}(1.0)  …  Gray{Float64}(0.953388)\n",
       " Gray{Float64}(1.0)  Gray{Float64}(1.0)     Gray{Float64}(0.953393)\n",
       " Gray{Float64}(1.0)  Gray{Float64}(1.0)     Gray{Float64}(0.953388)\n",
       " Gray{Float64}(1.0)  Gray{Float64}(1.0)     Gray{Float64}(0.953393)\n",
       " Gray{Float64}(1.0)  Gray{Float64}(1.0)     Gray{Float64}(0.953388)\n",
       " Gray{Float64}(1.0)  Gray{Float64}(1.0)  …  Gray{Float64}(0.953393)\n",
       " Gray{Float64}(1.0)  Gray{Float64}(1.0)     Gray{Float64}(0.953388)\n",
       " Gray{Float64}(1.0)  Gray{Float64}(1.0)     Gray{Float64}(0.953393)\n",
       " Gray{Float64}(1.0)  Gray{Float64}(1.0)     Gray{Float64}(0.953388)\n",
       " Gray{Float64}(1.0)  Gray{Float64}(1.0)     Gray{Float64}(0.953393)"
      ]
     },
     "execution_count": 48,
     "metadata": {},
     "output_type": "execute_result"
    }
   ],
   "source": [
    "@time diag2_wc_3d = wc(diag2, 10, 5, 0.5, max_iter = 100, threshold = 0.01, m=200, bw = 4, algo_type = :cortical)[1]\n",
    "show_together(diag2, diag2_wc_3d)"
   ]
  },
  {
   "cell_type": "code",
   "execution_count": 49,
   "metadata": {},
   "outputs": [
    {
     "name": "stdout",
     "output_type": "stream",
     "text": [
      " 96.154499 seconds (24.06 M allocations: 56.607 GiB, 32.39% gc time)\n"
     ]
    },
    {
     "data": {
      "image/png": "[encoded data removed]",
      "text/plain": [
       "200×420 Array{Gray{Float64},2} with eltype Gray{Float64}:\n",
       " Gray{Float64}(1.0)  Gray{Float64}(1.0)  …  Gray{Float64}(0.654785)\n",
       " Gray{Float64}(1.0)  Gray{Float64}(1.0)     Gray{Float64}(0.654813)\n",
       " Gray{Float64}(1.0)  Gray{Float64}(1.0)     Gray{Float64}(0.654781)\n",
       " Gray{Float64}(1.0)  Gray{Float64}(1.0)     Gray{Float64}(0.654808)\n",
       " Gray{Float64}(1.0)  Gray{Float64}(1.0)     Gray{Float64}(0.654775)\n",
       " Gray{Float64}(1.0)  Gray{Float64}(1.0)  …  Gray{Float64}(0.654799)\n",
       " Gray{Float64}(1.0)  Gray{Float64}(1.0)     Gray{Float64}(0.654768)\n",
       " Gray{Float64}(1.0)  Gray{Float64}(1.0)     Gray{Float64}(0.654793)\n",
       " Gray{Float64}(1.0)  Gray{Float64}(1.0)     Gray{Float64}(0.654764)\n",
       " Gray{Float64}(1.0)  Gray{Float64}(1.0)     Gray{Float64}(0.654788)\n",
       " Gray{Float64}(1.0)  Gray{Float64}(1.0)  …  Gray{Float64}(0.654759)\n",
       " Gray{Float64}(1.0)  Gray{Float64}(1.0)     Gray{Float64}(0.65478) \n",
       " Gray{Float64}(1.0)  Gray{Float64}(1.0)     Gray{Float64}(0.654747)\n",
       " ⋮                                       ⋱                         \n",
       " Gray{Float64}(1.0)  Gray{Float64}(1.0)     Gray{Float64}(0.654753)\n",
       " Gray{Float64}(1.0)  Gray{Float64}(1.0)     Gray{Float64}(0.654794)\n",
       " Gray{Float64}(1.0)  Gray{Float64}(1.0)  …  Gray{Float64}(0.654759)\n",
       " Gray{Float64}(1.0)  Gray{Float64}(1.0)     Gray{Float64}(0.654797)\n",
       " Gray{Float64}(1.0)  Gray{Float64}(1.0)     Gray{Float64}(0.654764)\n",
       " Gray{Float64}(1.0)  Gray{Float64}(1.0)     Gray{Float64}(0.654802)\n",
       " Gray{Float64}(1.0)  Gray{Float64}(1.0)     Gray{Float64}(0.654771)\n",
       " Gray{Float64}(1.0)  Gray{Float64}(1.0)  …  Gray{Float64}(0.654807)\n",
       " Gray{Float64}(1.0)  Gray{Float64}(1.0)     Gray{Float64}(0.654776)\n",
       " Gray{Float64}(1.0)  Gray{Float64}(1.0)     Gray{Float64}(0.65481) \n",
       " Gray{Float64}(1.0)  Gray{Float64}(1.0)     Gray{Float64}(0.654778)\n",
       " Gray{Float64}(1.0)  Gray{Float64}(1.0)     Gray{Float64}(0.654809)"
      ]
     },
     "execution_count": 49,
     "metadata": {},
     "output_type": "execute_result"
    }
   ],
   "source": [
    "@time diag2_lhe_3d = lhe(diag2, 10, 5, 0.5, max_iter = 100, threshold = 0.01, m=200, bw = 4, algo_type = :cortical)[1]\n",
    "show_together(diag2, diag2_lhe_3d)"
   ]
  },
  {
   "cell_type": "code",
   "execution_count": 65,
   "metadata": {},
   "outputs": [
    {
     "data": {
      "image/png": "[encoded data removed]",
      "text/plain": [
       "200×200 Array{Gray{N0f8},2} with eltype Gray{Normed{UInt8,8}}:\n",
       " Gray{N0f8}(1.0)  Gray{N0f8}(1.0)  …  Gray{N0f8}(0.0)  Gray{N0f8}(0.0)\n",
       " Gray{N0f8}(1.0)  Gray{N0f8}(1.0)     Gray{N0f8}(0.0)  Gray{N0f8}(0.0)\n",
       " Gray{N0f8}(1.0)  Gray{N0f8}(1.0)     Gray{N0f8}(0.0)  Gray{N0f8}(0.0)\n",
       " Gray{N0f8}(1.0)  Gray{N0f8}(1.0)     Gray{N0f8}(0.0)  Gray{N0f8}(0.0)\n",
       " Gray{N0f8}(1.0)  Gray{N0f8}(1.0)     Gray{N0f8}(0.0)  Gray{N0f8}(0.0)\n",
       " Gray{N0f8}(1.0)  Gray{N0f8}(1.0)  …  Gray{N0f8}(0.0)  Gray{N0f8}(0.0)\n",
       " Gray{N0f8}(1.0)  Gray{N0f8}(1.0)     Gray{N0f8}(0.0)  Gray{N0f8}(0.0)\n",
       " Gray{N0f8}(1.0)  Gray{N0f8}(1.0)     Gray{N0f8}(0.0)  Gray{N0f8}(0.0)\n",
       " Gray{N0f8}(1.0)  Gray{N0f8}(1.0)     Gray{N0f8}(0.0)  Gray{N0f8}(0.0)\n",
       " Gray{N0f8}(1.0)  Gray{N0f8}(1.0)     Gray{N0f8}(0.0)  Gray{N0f8}(0.0)\n",
       " Gray{N0f8}(1.0)  Gray{N0f8}(1.0)  …  Gray{N0f8}(0.0)  Gray{N0f8}(0.0)\n",
       " Gray{N0f8}(1.0)  Gray{N0f8}(1.0)     Gray{N0f8}(0.0)  Gray{N0f8}(0.0)\n",
       " Gray{N0f8}(1.0)  Gray{N0f8}(1.0)     Gray{N0f8}(0.0)  Gray{N0f8}(0.0)\n",
       " ⋮                                 ⋱                                  \n",
       " Gray{N0f8}(1.0)  Gray{N0f8}(1.0)     Gray{N0f8}(0.0)  Gray{N0f8}(0.0)\n",
       " Gray{N0f8}(1.0)  Gray{N0f8}(1.0)     Gray{N0f8}(0.0)  Gray{N0f8}(0.0)\n",
       " Gray{N0f8}(1.0)  Gray{N0f8}(1.0)  …  Gray{N0f8}(0.0)  Gray{N0f8}(0.0)\n",
       " Gray{N0f8}(1.0)  Gray{N0f8}(1.0)     Gray{N0f8}(0.0)  Gray{N0f8}(0.0)\n",
       " Gray{N0f8}(1.0)  Gray{N0f8}(1.0)     Gray{N0f8}(0.0)  Gray{N0f8}(0.0)\n",
       " Gray{N0f8}(1.0)  Gray{N0f8}(1.0)     Gray{N0f8}(0.0)  Gray{N0f8}(0.0)\n",
       " Gray{N0f8}(1.0)  Gray{N0f8}(1.0)     Gray{N0f8}(0.0)  Gray{N0f8}(0.0)\n",
       " Gray{N0f8}(1.0)  Gray{N0f8}(1.0)  …  Gray{N0f8}(0.0)  Gray{N0f8}(0.0)\n",
       " Gray{N0f8}(1.0)  Gray{N0f8}(1.0)     Gray{N0f8}(0.0)  Gray{N0f8}(0.0)\n",
       " Gray{N0f8}(1.0)  Gray{N0f8}(1.0)     Gray{N0f8}(0.0)  Gray{N0f8}(0.0)\n",
       " Gray{N0f8}(1.0)  Gray{N0f8}(1.0)     Gray{N0f8}(0.0)  Gray{N0f8}(0.0)\n",
       " Gray{N0f8}(1.0)  Gray{N0f8}(1.0)     Gray{N0f8}(0.0)  Gray{N0f8}(0.0)"
      ]
     },
     "execution_count": 65,
     "metadata": {},
     "output_type": "execute_result"
    }
   ],
   "source": [
    "img = Gray.(load(\"/home/alexander/Desktop/JNP_italians/1_algorithm/illusions/white.png\"))"
   ]
  },
  {
   "cell_type": "code",
   "execution_count": 67,
   "metadata": {},
   "outputs": [
    {
     "name": "stdout",
     "output_type": "stream",
     "text": [
      " 49.057966 seconds (24.88 M allocations: 26.582 GiB, 32.44% gc time)\n"
     ]
    },
    {
     "data": {
      "image/png": "[encoded data removed]",
      "text/plain": [
       "200×420 Array{Gray{Float64},2} with eltype Gray{Float64}:\n",
       " Gray{Float64}(1.0)  Gray{Float64}(1.0)  …  Gray{Float64}(0.255206)\n",
       " Gray{Float64}(1.0)  Gray{Float64}(1.0)     Gray{Float64}(0.255206)\n",
       " Gray{Float64}(1.0)  Gray{Float64}(1.0)     Gray{Float64}(0.255206)\n",
       " Gray{Float64}(1.0)  Gray{Float64}(1.0)     Gray{Float64}(0.255206)\n",
       " Gray{Float64}(1.0)  Gray{Float64}(1.0)     Gray{Float64}(0.255206)\n",
       " Gray{Float64}(1.0)  Gray{Float64}(1.0)  …  Gray{Float64}(0.255206)\n",
       " Gray{Float64}(1.0)  Gray{Float64}(1.0)     Gray{Float64}(0.255206)\n",
       " Gray{Float64}(1.0)  Gray{Float64}(1.0)     Gray{Float64}(0.255206)\n",
       " Gray{Float64}(1.0)  Gray{Float64}(1.0)     Gray{Float64}(0.255206)\n",
       " Gray{Float64}(1.0)  Gray{Float64}(1.0)     Gray{Float64}(0.255206)\n",
       " Gray{Float64}(1.0)  Gray{Float64}(1.0)  …  Gray{Float64}(0.255206)\n",
       " Gray{Float64}(1.0)  Gray{Float64}(1.0)     Gray{Float64}(0.255205)\n",
       " Gray{Float64}(1.0)  Gray{Float64}(1.0)     Gray{Float64}(0.255205)\n",
       " ⋮                                       ⋱                         \n",
       " Gray{Float64}(1.0)  Gray{Float64}(1.0)     Gray{Float64}(0.255205)\n",
       " Gray{Float64}(1.0)  Gray{Float64}(1.0)     Gray{Float64}(0.255205)\n",
       " Gray{Float64}(1.0)  Gray{Float64}(1.0)  …  Gray{Float64}(0.255205)\n",
       " Gray{Float64}(1.0)  Gray{Float64}(1.0)     Gray{Float64}(0.255206)\n",
       " Gray{Float64}(1.0)  Gray{Float64}(1.0)     Gray{Float64}(0.255206)\n",
       " Gray{Float64}(1.0)  Gray{Float64}(1.0)     Gray{Float64}(0.255206)\n",
       " Gray{Float64}(1.0)  Gray{Float64}(1.0)     Gray{Float64}(0.255206)\n",
       " Gray{Float64}(1.0)  Gray{Float64}(1.0)  …  Gray{Float64}(0.255206)\n",
       " Gray{Float64}(1.0)  Gray{Float64}(1.0)     Gray{Float64}(0.255206)\n",
       " Gray{Float64}(1.0)  Gray{Float64}(1.0)     Gray{Float64}(0.255206)\n",
       " Gray{Float64}(1.0)  Gray{Float64}(1.0)     Gray{Float64}(0.255206)\n",
       " Gray{Float64}(1.0)  Gray{Float64}(1.0)     Gray{Float64}(0.255206)"
      ]
     },
     "execution_count": 67,
     "metadata": {},
     "output_type": "execute_result"
    }
   ],
   "source": [
    "@time img_lhe_3d = lhe(img, 10, 5, 0.5, max_iter = 100, threshold = 0.01, m=200, bw = 4, algo_type = :cortical)[1]\n",
    "show_together(img, img_lhe_3d)"
   ]
  },
  {
   "cell_type": "markdown",
   "metadata": {},
   "source": [
    "## White"
   ]
  },
  {
   "cell_type": "code",
   "execution_count": 29,
   "metadata": {},
   "outputs": [
    {
     "name": "stdout",
     "output_type": "stream",
     "text": [
      "white0.01.png\n",
      "white0.03.png\n",
      "white0.05.png\n",
      "white0.07.png\n",
      "white0.09.png\n",
      "white0.12.png\n"
     ]
    }
   ],
   "source": [
    "path = \"/home/alexander/Desktop/JNP_italians/2_data/Illusions/white\"\n",
    "savePath = \"/home/alexander/Desktop/JNP_italians/3_Results/\"\n",
    "images = [\"white0.01.png\",\"white0.03.png\",\"white0.05.png\",\"white0.07.png\",\"white0.09.png\",\"white0.12.png\"]\n",
    "for i = 1:size(images,1)\n",
    "    \n",
    "    println(images[i])\n",
    "    img = Gray.(load(string(path,\"/\",images[i])))\n",
    "    ## LHE cortical\n",
    "    #img_lhe_3d = lhe(img, 10, 5, 0.5, max_iter = 100, threshold = 0.01, m=200, bw = 4, algo_type = :cortical)[1]\n",
    "    ## LHE planar\n",
    "    #img_lhe_3d = lhe(img, 10, 5, 0.5, algo_type = :planar)[1]\n",
    "    ## WC planar\n",
    "    #img_lhe_3d = wc(img, 10, 2, 0.5, algo_type = :planar)[1]\n",
    "    ## WC cortical\n",
    "    img_lhe_3d = wc(img, 10, 5, 0.5, max_iter = 100, threshold = 0.01, m=200, bw = 4, algo_type = :cortical)[1]\n",
    "    \n",
    "    save(string(savePath,images[i],\".jld\"), \"data\", img_lhe_3d)\n",
    "    \n",
    "end\n",
    "\n",
    "\n",
    "#save(\"/home/alexander/Desktop/JNP_italians/3_Results/img.jld\", \"data\", img_lhe_3d)"
   ]
  },
  {
   "cell_type": "markdown",
   "metadata": {},
   "source": [
    "## Chevreul"
   ]
  },
  {
   "cell_type": "code",
   "execution_count": 33,
   "metadata": {},
   "outputs": [
    {
     "name": "stdout",
     "output_type": "stream",
     "text": [
      "chevreul0.01.png\n",
      "chevreul0.03.png\n",
      "chevreul0.05.png\n",
      "chevreul0.07.png\n",
      "chevreul0.09.png\n",
      "chevreul0.12.png\n"
     ]
    }
   ],
   "source": [
    "path = \"/home/alexander/Desktop/JNP_italians/2_data/Illusions/Chevreul\"\n",
    "savePath = \"/home/alexander/Desktop/JNP_italians/3_Results/\"\n",
    "images = [\"chevreul0.01.png\",\"chevreul0.03.png\",\"chevreul0.05.png\",\"chevreul0.07.png\",\"chevreul0.09.png\",\"chevreul0.12.png\"]\n",
    "for i = 1:size(images,1)\n",
    "    \n",
    "    println(images[i])\n",
    "    img = Gray.(load(string(path,\"/\",images[i])))\n",
    "    ## LHE cortical\n",
    "    #img_lhe_3d = lhe(img, 10, 5, 0.5, max_iter = 100, threshold = 0.01, m=200, bw = 4, algo_type = :cortical)[1]\n",
    "    ## LHE planar\n",
    "    #img_lhe_3d = lhe(img, 10, 5, 0.5, algo_type = :planar)[1]\n",
    "    ## WC planar\n",
    "    #img_lhe_3d = wc(img, 10, 2, 0.5, algo_type = :planar)[1]\n",
    "    ## WC cortical\n",
    "    img_lhe_3d = wc(img, 10, 5, 0.5, max_iter = 100, threshold = 0.01, m=200, bw = 4, algo_type = :cortical)[1]\n",
    "    \n",
    "    save(string(savePath,images[i],\".jld\"), \"data\", img_lhe_3d)\n",
    "    \n",
    "end\n"
   ]
  },
  {
   "cell_type": "markdown",
   "metadata": {},
   "source": [
    "## Chevreul cancelation"
   ]
  },
  {
   "cell_type": "code",
   "execution_count": 42,
   "metadata": {},
   "outputs": [
    {
     "name": "stdout",
     "output_type": "stream",
     "text": [
      "chevreulCan0.01.png\n",
      "chevreulCan0.03.png\n",
      "chevreulCan0.05.png\n",
      "chevreulCan0.07.png\n",
      "chevreulCan0.09.png\n",
      "chevreulCan0.12.png\n"
     ]
    }
   ],
   "source": [
    "path = \"/home/alexander/Desktop/JNP_italians/2_data/Illusions/ChevreulCan\"\n",
    "savePath = \"/home/alexander/Desktop/JNP_italians/3_Results/\"\n",
    "images = [\"chevreulCan0.01.png\",\"chevreulCan0.03.png\",\"chevreulCan0.05.png\",\"chevreulCan0.07.png\",\"chevreulCan0.09.png\",\"chevreulCan0.12.png\"]\n",
    "for i = 1:size(images,1)\n",
    "    \n",
    "    println(images[i])\n",
    "    img = Gray.(load(string(path,\"/\",images[i])))\n",
    "    ## LHE cortical\n",
    "    #img_lhe_3d = lhe(img, 10, 5, 0.5, max_iter = 100, threshold = 0.01, m=200, bw = 4, algo_type = :cortical)[1]\n",
    "    ## LHE planar\n",
    "    #img_lhe_3d = lhe(img, 10, 5, 0.5, algo_type = :planar)[1]\n",
    "    ## WC planar\n",
    "    #img_lhe_3d = wc(img, 10, 2, 0.5, algo_type = :planar)[1]\n",
    "    ## WC cortical\n",
    "    img_lhe_3d = wc(img, 10, 5, 0.5, max_iter = 100, threshold = 0.01, m=200, bw = 4, algo_type = :cortical)[1]\n",
    "    \n",
    "    save(string(savePath,images[i],\".jld\"), \"data\", img_lhe_3d)\n",
    "    \n",
    "end\n"
   ]
  },
  {
   "cell_type": "markdown",
   "metadata": {},
   "source": [
    "## Brightness contrast"
   ]
  },
  {
   "cell_type": "code",
   "execution_count": 36,
   "metadata": {},
   "outputs": [
    {
     "name": "stdout",
     "output_type": "stream",
     "text": [
      "brightness0.01.png\n",
      "brightness0.03.png\n",
      "brightness0.05.png\n",
      "brightness0.07.png\n",
      "brightness0.09.png\n"
     ]
    }
   ],
   "source": [
    "path = \"/home/alexander/Desktop/JNP_italians/2_data/Illusions/brightness\"\n",
    "savePath = \"/home/alexander/Desktop/JNP_italians/3_Results/\"\n",
    "images = [\"brightness0.01.png\",\"brightness0.03.png\",\"brightness0.05.png\",\"brightness0.07.png\",\"brightness0.09.png\"]\n",
    "for i = 1:size(images,1)\n",
    "    \n",
    "    println(images[i])\n",
    "    img = Gray.(load(string(path,\"/\",images[i])))\n",
    "    ## LHE cortical\n",
    "    #img_lhe_3d = lhe(img, 10, 5, 0.5, max_iter = 100, threshold = 0.01, m=200, bw = 4, algo_type = :cortical)[1]\n",
    "    ## LHE planar\n",
    "    #img_lhe_3d = lhe(img, 10, 5, 0.5, algo_type = :planar)[1]\n",
    "    ## WC planar\n",
    "    #img_lhe_3d = wc(img, 10, 2, 0.5, algo_type = :planar)[1]\n",
    "    ## WC cortical\n",
    "    img_lhe_3d = wc(img, 10, 5, 0.5, max_iter = 100, threshold = 0.01, m=200, bw = 4, algo_type = :cortical)[1]\n",
    "    \n",
    "    save(string(savePath,images[i],\".jld\"), \"data\", img_lhe_3d)\n",
    "    \n",
    "end"
   ]
  },
  {
   "cell_type": "markdown",
   "metadata": {},
   "source": [
    "## Todorovic"
   ]
  },
  {
   "cell_type": "code",
   "execution_count": 38,
   "metadata": {},
   "outputs": [
    {
     "name": "stdout",
     "output_type": "stream",
     "text": [
      "todorovic0.01.png\n",
      "todorovic0.03.png\n",
      "todorovic0.05.png\n",
      "todorovic0.07.png\n"
     ]
    }
   ],
   "source": [
    "path = \"/home/alexander/Desktop/JNP_italians/2_data/Illusions/todorovic\"\n",
    "savePath = \"/home/alexander/Desktop/JNP_italians/3_Results/\"\n",
    "images = [\"todorovic0.01.png\",\"todorovic0.03.png\",\"todorovic0.05.png\",\"todorovic0.07.png\"]\n",
    "for i = 1:size(images,1)\n",
    "    \n",
    "    println(images[i])\n",
    "    img = Gray.(load(string(path,\"/\",images[i])))\n",
    "    ## LHE cortical\n",
    "    #img_lhe_3d = lhe(img, 10, 5, 0.5, max_iter = 100, threshold = 0.01, m=200, bw = 4, algo_type = :cortical)[1]\n",
    "    ## LHE planar\n",
    "    #img_lhe_3d = lhe(img, 10, 5, 0.5, algo_type = :planar)[1]\n",
    "    ### WC planar\n",
    "    #img_lhe_3d = wc(img, 10, 2, 0.5, algo_type = :planar)[1]\n",
    "    ## WC cortical\n",
    "    img_lhe_3d = wc(img, 10, 5, 0.5, max_iter = 100, threshold = 0.01, m=200, bw = 4, algo_type = :cortical)[1]\n",
    "    \n",
    "    save(string(savePath,images[i],\".jld\"), \"data\", img_lhe_3d)\n",
    "    \n",
    "end"
   ]
  },
  {
   "cell_type": "markdown",
   "metadata": {},
   "source": [
    "## Checkerboard"
   ]
  },
  {
   "cell_type": "code",
   "execution_count": 40,
   "metadata": {},
   "outputs": [
    {
     "name": "stdout",
     "output_type": "stream",
     "text": [
      "checkerboard0.01.png\n",
      "checkerboard0.03.png\n",
      "checkerboard0.05.png\n",
      "checkerboard0.07.png\n"
     ]
    }
   ],
   "source": [
    "path = \"/home/alexander/Desktop/JNP_italians/2_data/Illusions/checkerboard\"\n",
    "savePath = \"/home/alexander/Desktop/JNP_italians/3_Results/\"\n",
    "images = [\"checkerboard0.01.png\",\"checkerboard0.03.png\",\"checkerboard0.05.png\",\"checkerboard0.07.png\"]\n",
    "for i = 1:size(images,1)\n",
    "    \n",
    "    println(images[i])\n",
    "    img = Gray.(load(string(path,\"/\",images[i])))\n",
    "    ## LHE cortical\n",
    "    #img_lhe_3d = lhe(img, 10, 5, 0.5, max_iter = 100, threshold = 0.01, m=200, bw = 4, algo_type = :cortical)[1]\n",
    "    ## LHE planar\n",
    "    #img_lhe_3d = lhe(img, 10, 5, 0.5, algo_type = :planar)[1]\n",
    "    ## WC planar\n",
    "    #img_lhe_3d = wc(img, 10, 2, 0.5, algo_type = :planar)[1]\n",
    "    ## WC cortical\n",
    "    img_lhe_3d = wc(img, 10, 5, 0.5, max_iter = 100, threshold = 0.01, m=200, bw = 4, algo_type = :cortical)[1]\n",
    "    \n",
    "    save(string(savePath,images[i],\".jld\"), \"data\", img_lhe_3d)\n",
    "    \n",
    "end"
   ]
  },
  {
   "cell_type": "markdown",
   "metadata": {},
   "source": [
    "## Caffe wall"
   ]
  },
  {
   "cell_type": "code",
   "execution_count": 7,
   "metadata": {},
   "outputs": [
    {
     "name": "stdout",
     "output_type": "stream",
     "text": [
      "caffeWall10.png\n",
      "caffeWall15.png\n",
      "caffeWall20.png\n"
     ]
    }
   ],
   "source": [
    "path = \"/home/alexander/Desktop/JNP_italians/2_data/Illusions/caffeWall/\"\n",
    "savePath = \"/home/alexander/Desktop/JNP_italians/3_Results/\"\n",
    "images = [\"caffeWall10.png\",\"caffeWall15.png\",\"caffeWall20.png\"]\n",
    "for i = 1:size(images,1)\n",
    "    \n",
    "    println(images[i])\n",
    "    img = Gray.(load(string(path,\"/\",images[i])))\n",
    "    img_lhe_3d = lhe(img, 10, 5, 0.5, max_iter = 100, threshold = 0.01, m=200, bw = 4, algo_type = :cortical)[1]\n",
    "    save(string(savePath,images[i],\".jld\"), \"data\", img_lhe_3d)\n",
    "    \n",
    "end"
   ]
  },
  {
   "cell_type": "code",
   "execution_count": null,
   "metadata": {},
   "outputs": [],
   "source": [
    "images = [\"grating0.01.png\",\"grating0.03.png\",\"grating0.05.png\",\"grating0.07.png\",\"grating0.09.png\",\"grating0.12.png\",\"grating0.15.png\"]\n",
    "images = [\"\"]"
   ]
  }
 ],
 "metadata": {
  "kernelspec": {
   "display_name": "Julia 1.1.0",
   "language": "julia",
   "name": "julia-1.1"
  },
  "language_info": {
   "file_extension": ".jl",
   "mimetype": "application/julia",
   "name": "julia",
   "version": "1.1.0"
  }
 },
 "nbformat": 4,
 "nbformat_minor": 2
}
